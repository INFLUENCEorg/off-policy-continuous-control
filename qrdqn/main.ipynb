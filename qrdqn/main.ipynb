{
 "cells": [
  {
   "cell_type": "code",
   "execution_count": 2,
   "id": "da401ac7",
   "metadata": {},
   "outputs": [],
   "source": [
    "import torch\n",
    "import torch.nn as nn"
   ]
  },
  {
   "cell_type": "code",
   "execution_count": 4,
   "id": "24aced54",
   "metadata": {},
   "outputs": [],
   "source": [
    "class QuantileNet(nn.Module):\n",
    "    \n",
    "    def __init__(self, state_dim, action_dim, num_quants):\n",
    "        super().__init__()\n",
    "        self.action_dim = action_dim\n",
    "        self.num_quants = num_quants\n",
    "        self.all_layers = nn.Sequential(\n",
    "            nn.Linear(state_dim, 256),\n",
    "            nn.ReLU(),\n",
    "            nn.Linear(256, 256),\n",
    "            nn.ReLU(),\n",
    "            nn.Linear(256, 256),\n",
    "            nn.ReLU(),\n",
    "            nn.Linear(256, action_dim * num_quants)\n",
    "        )\n",
    "        \n",
    "    def forward(self, states):\n",
    "        out = self.all_layers(states)\n",
    "        out = out.view(-1, self.action_dim, self.num_quants)\n",
    "        return out"
   ]
  },
  {
   "cell_type": "code",
   "execution_count": 8,
   "id": "99da0f78",
   "metadata": {},
   "outputs": [],
   "source": [
    "class ReplayBuffer:\n",
    "    \n",
    "    pass"
   ]
  },
  {
   "cell_type": "code",
   "execution_count": null,
   "id": "538a45df",
   "metadata": {},
   "outputs": [],
   "source": []
  },
  {
   "cell_type": "code",
   "execution_count": 26,
   "id": "293d2268",
   "metadata": {},
   "outputs": [],
   "source": [
    "class ParamsPool:\n",
    "    \n",
    "    def __init__(\n",
    "        self, \n",
    "        state_dim, \n",
    "        action_dim, \n",
    "        num_quants,\n",
    "        gamma=0.99\n",
    "    ):\n",
    "        self.quantile_net = QuantileNet(state_dim, action_dim, num_quants)\n",
    "        self.quantile_net_target = QuantileNet(state_dim, action_dim, num_quants)\n",
    "        self.gamma = gamma\n",
    "        self.num_quants = num_quants\n",
    "        \n",
    "    def update_networks(self, batch):\n",
    "        \n",
    "        # batch.states & batch.next_states: (bs, state_dim)\n",
    "        # batch.actions: (bs, action_dim)\n",
    "        # batch.r: (bs, 1)\n",
    "        # batch.d: (bs, 1)\n",
    "        \n",
    "        # ==============================\n",
    "        # compute prediction\n",
    "        # ==============================\n",
    "        \n",
    "        # part of step 4 in algorithm\n",
    "        \n",
    "        # ==============================\n",
    "        # compute target\n",
    "        # ==============================\n",
    "        \n",
    "        # step 1 in algorithm\n",
    "        next_quantiles = self.quantile_net_target(batch.next_states) # (bs, action_dim, num_quants)\n",
    "        next_qvalues = next_quantiles.mean(dim=2)  # average over all quantiles but not actions; (bs, action_dim)\n",
    "        \n",
    "        # step 2 in algorithm\n",
    "        next_greedy_actions = next_qvalues.argmax(dim=1, keepdim=True)  # (bs, 1)\n",
    "        next_greedy_actions = next_greedy_actions.unsqueeze(-1).repeat(1, 1, self.num_quants) # (bs, 1, num_quants)\n",
    "        \n",
    "        # step 3 in algorithm\n",
    "        next_greedy_quantiles = next_quantiles.gather(next_greedy_actions).squeeze() # (bs, num_quants)\n",
    "        samples_from_sample_bellman_updates = batch.r + self.gamma * (1 - batch.d) * next_greedy_quantiles # (bs, num_quants)\n",
    "        \n",
    "        # ==============================\n",
    "        # compute loss\n",
    "        # ==============================\n",
    "        \n",
    "        # part of step 4 in algorith\n",
    "        \n",
    "        # ==============================\n",
    "        # do backprop and grad descent\n",
    "        # ==============================\n",
    "        \n",
    "        # ==============================\n",
    "        # update target networks\n",
    "        # =============================="
   ]
  },
  {
   "cell_type": "markdown",
   "id": "41b9a763",
   "metadata": {},
   "source": [
    "- ReplayBuffer: store data to train on\n",
    "- ParamsPool: contain the parameters; update and use the parameters; need samples from replay buffer (the update networks step correspond to what happens to one batch of data)\n",
    "- TrainingLoop: run episodes in environment, store data in replay buffer, sample data from replay buffer to train params pool"
   ]
  },
  {
   "cell_type": "code",
   "execution_count": null,
   "id": "4e48fbfc",
   "metadata": {},
   "outputs": [],
   "source": []
  }
 ],
 "metadata": {
  "kernelspec": {
   "display_name": "Python 3",
   "language": "python",
   "name": "python3"
  },
  "language_info": {
   "codemirror_mode": {
    "name": "ipython",
    "version": 3
   },
   "file_extension": ".py",
   "mimetype": "text/x-python",
   "name": "python",
   "nbconvert_exporter": "python",
   "pygments_lexer": "ipython3",
   "version": "3.7.10"
  }
 },
 "nbformat": 4,
 "nbformat_minor": 5
}
